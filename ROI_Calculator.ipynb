{
 "cells": [
  {
   "cell_type": "code",
   "execution_count": null,
   "id": "de0fe6bf",
   "metadata": {},
   "outputs": [
    {
     "name": "stdout",
     "output_type": "stream",
     "text": [
      "==================================================\n",
      "Hello, Let's calculate your ROI for your rental property\n",
      "\n",
      "Let's calculate your monthly income.\n",
      "\n"
     ]
    }
   ],
   "source": [
    "def Income_Calculator():\n",
    "    print(\"Let's calculate your monthly income.)\n",
    "    rent = float(input(\"What is the monthly rent of the property?\\n\"))\n",
    "    fees = float(input(\"What are the total other fees paid by the tenant? (example: parking)\\n\"))\n",
    "    return (rent + fees)\n",
    "def Expense_Calculator(income_value):\n",
    "    print(\"Now let's calculate your monthly expenses.\\n\")\n",
    "    taxes = float(input(\"What are the taxes that you are paying on the property?\\n\"))\n",
    "    insurance = float(input(\"What is the insurance that you are paying on the property?\\n\"))\n",
    "    print(\"Let's do Utilities!\\n\")\n",
    "    electrical = float(input(\"What much do you pay for electrical on the property each month?\\n\"))\n",
    "    gas = float(input(\"What much do you pay for gas on the property each month?\\n\"))\n",
    "    garbage = float(input(\"What much do you pay for waste removal on the property each month?\\n\"))\n",
    "    water = float(input(\"What much do you pay for water on the property each month?\\n\"))\n",
    "    sewage = float(input(\"What much do you pay for sewage on the property each month?\\n\"))\n",
    "    utilities = electrical + gas + garbage + water + sewage + electrical\n",
    "    print(f\"You are paying ${utilities:.2f} per month for utilities.\\n\")\n",
    "    hoa = float(input(\"What do you pay towards the home owners association?\\n\"))\n",
    "    lawn = float(input(\"What much do you pay for snow removal and lawn care on the property each month?\\n\"))\n",
    "    vacancy = income_value*0.05\n",
    "    print(f\"You are paying ${vacancy} per month on vacancy costs\\n\")\n",
    "    repairs = float(input(\"How much do you anticipate spending on repairs per month?\\n\"))\n",
    "    capex = float(input(\"How much do you anticipate spending on capex projects per month?\\n\"))\n",
    "    property_manager = (input(\"Will you require a property manager?(y or n)\\n\")).lower()\n",
    "    if property_manager == 'y':\n",
    "        prop_manager_cost = float(income_value*0.1)\n",
    "        print(f\"Your property manager cost is estimated to be {prop_manager_cost:.2f}.\\n\")\n",
    "    else:\n",
    "        prop_manager_cost = 0.00\n",
    "    mortgage = float(input(\"How much do you pay for your mortgage per month?\\n\"))\n",
    "    return(taxes+insurance+utilities+hoa+lawn+vacancy+repairs+capex+prop_manager_cost+mortgage)\n",
    "    \n",
    "    \n",
    "def Total_Investment():\n",
    "    print(\"We will now calculate your investment into the property\")\n",
    "    down_payment =  float(input(\"What was your down payment made on the property?\\n\"))\n",
    "    closing_costs = float(input(\"What were the closing costs when purchasing the property?\\n\"))\n",
    "    repair_money = float(input(\"How much did you spend on repairs during the initial purchase of the home?\\n\"))\n",
    "    misc_costs = float(input(\"Did you pay and misc. costs when purchasing the property?\\n\"))\n",
    "    return(down_payment + closing_costs + repair_money + misc_costs)\n",
    "      \n",
    "\n",
    "def ROI_Calculator ():\n",
    "    while True:\n",
    "        print(\"=\"*50)\n",
    "        print(\"Hello, Let's calculate your ROI for your rental property\\n\")\n",
    "        income = Income_Calculator()\n",
    "        expenses = Expense_Calculator(income)\n",
    "        cashflow = (income - expenses)*12\n",
    "        if cashflow < 0:\n",
    "            print(\"You are losing money on your unit, you need to charge more for rent before I will even bother calculating an ROI for you!\\n\")\n",
    "            continue\n",
    "        investment = Total_Investment()\n",
    "        roi = (cashflow/investment)*100\n",
    "        return (roi)\n",
    "    \n",
    "    \n",
    "print(f\"The ROI for your property is {ROI_Calculator()}%\")    \n",
    "\n",
    "#Income - Rent + Storage + Parking + Other\n",
    "#Expense - Taxes, insurance, Utilities (Electric, water sewer, gas, garbage//HOA, lawn/snow, vaCANCY(.05*INCOME), repairs, capex, propery managment(.10), mortage\n",
    "#down payment + closing costs + rehab budget, other investment\n",
    "\n",
    "\n"
   ]
  },
  {
   "cell_type": "code",
   "execution_count": null,
   "id": "9fa4e5a4",
   "metadata": {},
   "outputs": [],
   "source": []
  }
 ],
 "metadata": {
  "kernelspec": {
   "display_name": "Python 3 (ipykernel)",
   "language": "python",
   "name": "python3"
  },
  "language_info": {
   "codemirror_mode": {
    "name": "ipython",
    "version": 3
   },
   "file_extension": ".py",
   "mimetype": "text/x-python",
   "name": "python",
   "nbconvert_exporter": "python",
   "pygments_lexer": "ipython3",
   "version": "3.9.13"
  }
 },
 "nbformat": 4,
 "nbformat_minor": 5
}
